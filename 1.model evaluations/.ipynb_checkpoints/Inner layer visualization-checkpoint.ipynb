{
 "cells": [
  {
   "cell_type": "markdown",
   "metadata": {},
   "source": [
    "Exercise 2\n",
    "Since this dataset has 13 features we can only visualize pairs of features like we did in the Paired plot. We could however exploit the fact that a neural network is a function to extract 2 high level features to represent our data.\n",
    "\n",
    "- Build a deep fully connected network with the following structure:\n",
    "- Layer 1: 8 nodes\n",
    "- Layer 2: 5 nodes\n",
    "- Layer 3: 2 nodes\n",
    "- Output : 3 nodes\n",
    "- Choose activation functions, inizializations, optimizer and learning rate so that it converges to 100% accuracy within 20 epochs (not easy)\n",
    "- Remember to train the model on the scaled data\n",
    "- Define a Feature Function like we did above between the input of the 1st layer and the output of the 3rd layer\n",
    "- Calculate the features and plot them on a 2-dimensional scatter plot\n",
    "- Can we distinguish the 3 classes well?"
   ]
  },
  {
   "cell_type": "code",
   "execution_count": 75,
   "metadata": {},
   "outputs": [],
   "source": [
    "import numpy as np\n",
    "import pandas as pd\n",
    "import matplotlib.pyplot as plt\n",
    "from sklearn.preprocessing import StandardScaler\n",
    "from keras.models import Sequential\n",
    "from keras.layers import Dense\n",
    "import keras.backend as kb\n",
    "import keras"
   ]
  },
  {
   "cell_type": "code",
   "execution_count": 70,
   "metadata": {},
   "outputs": [],
   "source": [
    "data = pd.read_csv(filepath_or_buffer=r'./wine.csv')\n",
    "X = data.drop(columns=['Class'])\n",
    "y = data['Class']\n",
    "y = pd.get_dummies(y)"
   ]
  },
  {
   "cell_type": "code",
   "execution_count": 71,
   "metadata": {},
   "outputs": [],
   "source": [
    "stdsclr = StandardScaler()\n",
    "X = stdsclr.fit_transform(X)"
   ]
  },
  {
   "cell_type": "code",
   "execution_count": 108,
   "metadata": {},
   "outputs": [
    {
     "name": "stdout",
     "output_type": "stream",
     "text": [
      "Train on 142 samples, validate on 36 samples\n",
      "Epoch 1/20\n",
      "142/142 [==============================] - 3s 22ms/step - loss: 0.5459 - acc: 0.8028 - val_loss: 2.7289 - val_acc: 0.0000e+00\n",
      "Epoch 2/20\n",
      "142/142 [==============================] - 0s 621us/step - loss: 0.2812 - acc: 0.8944 - val_loss: 1.8414 - val_acc: 0.0000e+00\n",
      "Epoch 3/20\n",
      "142/142 [==============================] - 0s 563us/step - loss: 0.1657 - acc: 0.9366 - val_loss: 0.8325 - val_acc: 0.8889\n",
      "Epoch 4/20\n",
      "142/142 [==============================] - 0s 592us/step - loss: 0.1102 - acc: 0.9648 - val_loss: 0.8248 - val_acc: 0.8056\n",
      "Epoch 5/20\n",
      "142/142 [==============================] - 0s 648us/step - loss: 0.0840 - acc: 0.9718 - val_loss: 1.0005 - val_acc: 0.7500\n",
      "Epoch 6/20\n",
      "142/142 [==============================] - 0s 648us/step - loss: 0.1077 - acc: 0.9789 - val_loss: 0.3455 - val_acc: 0.9444\n",
      "Epoch 7/20\n",
      "142/142 [==============================] - 0s 622us/step - loss: 0.2012 - acc: 0.9366 - val_loss: 0.1395 - val_acc: 1.0000\n",
      "Epoch 8/20\n",
      "142/142 [==============================] - 0s 592us/step - loss: 0.1097 - acc: 0.9577 - val_loss: 0.3712 - val_acc: 0.9722\n",
      "Epoch 9/20\n",
      "142/142 [==============================] - 0s 648us/step - loss: 0.0479 - acc: 0.9930 - val_loss: 0.3827 - val_acc: 0.9444\n",
      "Epoch 10/20\n",
      "142/142 [==============================] - 0s 563us/step - loss: 0.0381 - acc: 0.9930 - val_loss: 0.1801 - val_acc: 0.9722\n",
      "Epoch 11/20\n",
      "142/142 [==============================] - 0s 592us/step - loss: 0.0169 - acc: 1.0000 - val_loss: 0.1794 - val_acc: 0.9722\n",
      "Epoch 12/20\n",
      "142/142 [==============================] - 0s 648us/step - loss: 0.0180 - acc: 0.9930 - val_loss: 0.1796 - val_acc: 0.9722\n",
      "Epoch 13/20\n",
      "142/142 [==============================] - 0s 592us/step - loss: 0.0640 - acc: 0.9859 - val_loss: 0.1058 - val_acc: 1.0000\n",
      "Epoch 14/20\n",
      "142/142 [==============================] - 0s 676us/step - loss: 0.0319 - acc: 0.9930 - val_loss: 0.0986 - val_acc: 1.0000\n",
      "Epoch 15/20\n",
      "142/142 [==============================] - 0s 592us/step - loss: 0.0310 - acc: 0.9930 - val_loss: 0.1024 - val_acc: 1.0000\n",
      "Epoch 16/20\n",
      "142/142 [==============================] - 0s 592us/step - loss: 0.0295 - acc: 0.9930 - val_loss: 0.1049 - val_acc: 1.0000\n",
      "Epoch 17/20\n",
      "142/142 [==============================] - 0s 620us/step - loss: 0.0260 - acc: 0.9930 - val_loss: 0.1158 - val_acc: 0.9722\n",
      "Epoch 18/20\n",
      "142/142 [==============================] - 0s 620us/step - loss: 0.0081 - acc: 1.0000 - val_loss: 0.0531 - val_acc: 1.0000\n",
      "Epoch 19/20\n",
      "142/142 [==============================] - 0s 565us/step - loss: 0.0057 - acc: 1.0000 - val_loss: 0.0367 - val_acc: 1.0000\n",
      "Epoch 20/20\n",
      "142/142 [==============================] - 0s 620us/step - loss: 0.0048 - acc: 1.0000 - val_loss: 0.0282 - val_acc: 1.0000\n"
     ]
    },
    {
     "data": {
      "text/plain": [
       "<keras.callbacks.History at 0x2906daefc8>"
      ]
     },
     "execution_count": 108,
     "metadata": {},
     "output_type": "execute_result"
    }
   ],
   "source": [
    "model = Sequential()\n",
    "model.add(Dense(units=8, input_shape=(X.shape[1],), \n",
    "                kernel_initializer=keras.initializers.he_normal(seed=None),\n",
    "                activation='tanh'))\n",
    "model.add(Dense(units=5, activation='tanh'))\n",
    "model.add(Dense(units=2, activation='tanh'))\n",
    "model.add(Dense(units=3, activation='softmax'))\n",
    "\n",
    "model.compile(optimizer=keras.optimizers.Adam(lr=0.05), loss='categorical_crossentropy', metrics=['accuracy'])\n",
    "model.fit(X, y, validation_split=.2, batch_size=8, epochs=20)"
   ]
  },
  {
   "cell_type": "code",
   "execution_count": 109,
   "metadata": {},
   "outputs": [],
   "source": [
    "layer1 = model.layers[0].input\n",
    "layer3 = model.layers[2].output"
   ]
  },
  {
   "cell_type": "code",
   "execution_count": 110,
   "metadata": {},
   "outputs": [],
   "source": [
    "function = kb.function(inputs=[layer1], outputs=[layer3])"
   ]
  },
  {
   "cell_type": "code",
   "execution_count": 111,
   "metadata": {},
   "outputs": [],
   "source": [
    "two_dim_output = function([X])[0]"
   ]
  },
  {
   "cell_type": "code",
   "execution_count": 112,
   "metadata": {},
   "outputs": [
    {
     "data": {
      "text/plain": [
       "(178, 2)"
      ]
     },
     "execution_count": 112,
     "metadata": {},
     "output_type": "execute_result"
    }
   ],
   "source": [
    "two_dim_output.shape"
   ]
  },
  {
   "cell_type": "code",
   "execution_count": 113,
   "metadata": {},
   "outputs": [
    {
     "data": {
      "text/plain": [
       "<matplotlib.collections.PathCollection at 0x290805ff48>"
      ]
     },
     "execution_count": 113,
     "metadata": {},
     "output_type": "execute_result"
    },
    {
     "data": {
      "image/png": "[encoded data removed]",
      "text/plain": [
       "<Figure size 432x288 with 1 Axes>"
      ]
     },
     "metadata": {
      "needs_background": "light"
     },
     "output_type": "display_data"
    }
   ],
   "source": [
    "plt.scatter(two_dim_output[:, 0], two_dim_output[:, 1], c=y)"
   ]
  }
 ],
 "metadata": {
  "kernelspec": {
   "display_name": "Python 3",
   "language": "python",
   "name": "python3"
  },
  "language_info": {
   "codemirror_mode": {
    "name": "ipython",
    "version": 3
   },
   "file_extension": ".py",
   "mimetype": "text/x-python",
   "name": "python",
   "nbconvert_exporter": "python",
   "pygments_lexer": "ipython3",
   "version": "3.7.7"
  }
 },
 "nbformat": 4,
 "nbformat_minor": 4
}

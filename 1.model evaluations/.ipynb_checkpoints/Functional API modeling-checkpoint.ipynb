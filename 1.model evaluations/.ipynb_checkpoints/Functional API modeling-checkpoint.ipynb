{
 "cells": [
  {
   "cell_type": "markdown",
   "metadata": {},
   "source": [
    "Exercise 3\n",
    "\n",
    "Keras functional API. So far we've always used the Sequential model API in Keras. However, Keras also offers a Functional API, which is much more powerful. You can find its documentation here. Let's see how we can leverage it.\n",
    "\n",
    "- define an input layer called inputs\n",
    "- define two hidden layers as before, one with 8 nodes, one with 5 nodes\n",
    "- define a second_to_last layer with 2 nodes\n",
    "- define an output layer with 3 nodes\n",
    "- create a model that connect input and output\n",
    "- train it and make sure that it converges\n",
    "- define a function between inputs and second_to_last layer\n",
    "- recalculate the features and plot them"
   ]
  },
  {
   "cell_type": "code",
   "execution_count": 20,
   "metadata": {},
   "outputs": [],
   "source": [
    "import numpy as np\n",
    "import pandas as pd\n",
    "import matplotlib.pyplot as plt\n",
    "\n",
    "from sklearn.preprocessing import StandardScaler\n",
    "\n",
    "import keras.backend as kb\n",
    "from keras.layers import Input\n",
    "from keras.models import Model\n",
    "from keras.layers import Dense\n",
    "from keras.initializers import he_normal\n",
    "from keras.optimizers import Adam"
   ]
  },
  {
   "cell_type": "code",
   "execution_count": 21,
   "metadata": {},
   "outputs": [],
   "source": [
    "data = pd.read_csv(filepath_or_buffer=r'./wine.csv')\n",
    "stdsclr = StandardScaler()\n",
    "\n",
    "X = data.drop(columns=['Class'])\n",
    "X = stdsclr.fit_transform(X)\n",
    "y = data['Class']\n",
    "y = pd.get_dummies(y)"
   ]
  },
  {
   "cell_type": "code",
   "execution_count": 43,
   "metadata": {},
   "outputs": [
    {
     "name": "stdout",
     "output_type": "stream",
     "text": [
      "Train on 142 samples, validate on 36 samples\n",
      "Epoch 1/50\n",
      "142/142 [==============================] - 3s 18ms/step - loss: 0.9669 - acc: 0.5986 - val_loss: 1.6916 - val_acc: 0.0000e+00\n",
      "Epoch 2/50\n",
      "142/142 [==============================] - 0s 532us/step - loss: 0.7019 - acc: 0.8803 - val_loss: 2.1972 - val_acc: 0.0000e+00\n",
      "Epoch 3/50\n",
      "142/142 [==============================] - 0s 535us/step - loss: 0.4960 - acc: 0.9014 - val_loss: 2.8498 - val_acc: 0.0000e+00\n",
      "Epoch 4/50\n",
      "142/142 [==============================] - 0s 507us/step - loss: 0.3428 - acc: 0.9155 - val_loss: 1.8321 - val_acc: 0.0000e+00\n",
      "Epoch 5/50\n",
      "142/142 [==============================] - 0s 563us/step - loss: 0.3054 - acc: 0.9085 - val_loss: 1.9992 - val_acc: 0.0000e+00\n",
      "Epoch 6/50\n",
      "142/142 [==============================] - 0s 507us/step - loss: 0.3018 - acc: 0.9085 - val_loss: 2.2993 - val_acc: 0.0000e+00\n",
      "Epoch 7/50\n",
      "142/142 [==============================] - 0s 563us/step - loss: 0.2666 - acc: 0.9155 - val_loss: 2.1972 - val_acc: 0.0000e+00\n",
      "Epoch 8/50\n",
      "142/142 [==============================] - 0s 479us/step - loss: 0.2597 - acc: 0.9155 - val_loss: 2.0677 - val_acc: 0.0000e+00\n",
      "Epoch 9/50\n",
      "142/142 [==============================] - 0s 624us/step - loss: 0.2572 - acc: 0.9155 - val_loss: 2.1582 - val_acc: 0.0000e+00\n",
      "Epoch 10/50\n",
      "142/142 [==============================] - 0s 507us/step - loss: 0.2542 - acc: 0.9155 - val_loss: 2.1106 - val_acc: 0.0000e+00\n",
      "Epoch 11/50\n",
      "142/142 [==============================] - 0s 507us/step - loss: 0.2525 - acc: 0.9155 - val_loss: 2.1735 - val_acc: 0.0000e+00\n",
      "Epoch 12/50\n",
      "142/142 [==============================] - 0s 535us/step - loss: 0.2560 - acc: 0.9155 - val_loss: 2.0927 - val_acc: 0.0000e+00\n",
      "Epoch 13/50\n",
      "142/142 [==============================] - 0s 423us/step - loss: 0.2543 - acc: 0.9155 - val_loss: 2.3096 - val_acc: 0.0000e+00\n",
      "Epoch 14/50\n",
      "142/142 [==============================] - 0s 451us/step - loss: 0.2514 - acc: 0.9155 - val_loss: 2.1288 - val_acc: 0.0000e+00\n",
      "Epoch 15/50\n",
      "142/142 [==============================] - 0s 535us/step - loss: 0.2487 - acc: 0.9155 - val_loss: 2.2153 - val_acc: 0.0000e+00\n",
      "Epoch 16/50\n",
      "142/142 [==============================] - 0s 479us/step - loss: 0.2474 - acc: 0.9155 - val_loss: 2.1755 - val_acc: 0.0000e+00\n",
      "Epoch 17/50\n",
      "142/142 [==============================] - 0s 507us/step - loss: 0.2470 - acc: 0.9155 - val_loss: 2.1532 - val_acc: 0.0000e+00\n",
      "Epoch 18/50\n",
      "142/142 [==============================] - 0s 535us/step - loss: 0.2479 - acc: 0.9155 - val_loss: 2.2157 - val_acc: 0.0000e+00\n",
      "Epoch 19/50\n",
      "142/142 [==============================] - 0s 507us/step - loss: 0.2479 - acc: 0.9155 - val_loss: 2.1410 - val_acc: 0.0000e+00\n",
      "Epoch 20/50\n",
      "142/142 [==============================] - 0s 507us/step - loss: 0.2470 - acc: 0.9155 - val_loss: 2.2503 - val_acc: 0.0000e+00\n",
      "Epoch 21/50\n",
      "142/142 [==============================] - 0s 535us/step - loss: 0.2462 - acc: 0.9155 - val_loss: 2.1377 - val_acc: 0.0000e+00\n",
      "Epoch 22/50\n",
      "142/142 [==============================] - 0s 535us/step - loss: 0.2464 - acc: 0.9155 - val_loss: 2.2149 - val_acc: 0.0000e+00\n",
      "Epoch 23/50\n",
      "142/142 [==============================] - 0s 571us/step - loss: 0.2471 - acc: 0.9155 - val_loss: 2.2802 - val_acc: 0.0000e+00\n",
      "Epoch 24/50\n",
      "142/142 [==============================] - 0s 563us/step - loss: 0.2442 - acc: 0.9155 - val_loss: 2.1312 - val_acc: 0.0000e+00\n",
      "Epoch 25/50\n",
      "142/142 [==============================] - 0s 620us/step - loss: 0.2454 - acc: 0.9155 - val_loss: 2.1729 - val_acc: 0.0000e+00\n",
      "Epoch 26/50\n",
      "142/142 [==============================] - 0s 563us/step - loss: 0.2471 - acc: 0.9155 - val_loss: 2.1189 - val_acc: 0.0000e+00\n",
      "Epoch 27/50\n",
      "142/142 [==============================] - 0s 535us/step - loss: 0.2452 - acc: 0.9155 - val_loss: 2.3004 - val_acc: 0.0000e+00\n",
      "Epoch 28/50\n",
      "142/142 [==============================] - 0s 507us/step - loss: 0.2439 - acc: 0.9155 - val_loss: 2.2773 - val_acc: 0.0000e+00\n",
      "Epoch 29/50\n",
      "142/142 [==============================] - 0s 479us/step - loss: 0.2433 - acc: 0.9155 - val_loss: 2.1936 - val_acc: 0.0000e+00\n",
      "Epoch 30/50\n",
      "142/142 [==============================] - 0s 507us/step - loss: 0.2437 - acc: 0.9155 - val_loss: 2.2372 - val_acc: 0.0000e+00\n",
      "Epoch 31/50\n",
      "142/142 [==============================] - 0s 507us/step - loss: 0.2418 - acc: 0.9155 - val_loss: 2.2352 - val_acc: 0.0000e+00\n",
      "Epoch 32/50\n",
      "142/142 [==============================] - 0s 676us/step - loss: 0.2410 - acc: 0.9155 - val_loss: 2.2087 - val_acc: 0.0000e+00\n",
      "Epoch 33/50\n",
      "142/142 [==============================] - 0s 507us/step - loss: 0.2257 - acc: 0.9155 - val_loss: 2.1412 - val_acc: 0.0000e+00\n",
      "Epoch 34/50\n",
      "142/142 [==============================] - 0s 535us/step - loss: 0.2058 - acc: 0.9155 - val_loss: 1.9994 - val_acc: 0.0000e+00\n",
      "Epoch 35/50\n",
      "142/142 [==============================] - 0s 535us/step - loss: 0.1799 - acc: 0.9155 - val_loss: 1.6397 - val_acc: 0.0000e+00\n",
      "Epoch 36/50\n",
      "142/142 [==============================] - 0s 587us/step - loss: 0.1524 - acc: 0.9155 - val_loss: 1.3518 - val_acc: 0.0000e+00\n",
      "Epoch 37/50\n",
      "142/142 [==============================] - 0s 592us/step - loss: 0.1291 - acc: 0.9155 - val_loss: 1.1114 - val_acc: 0.0000e+00\n",
      "Epoch 38/50\n",
      "142/142 [==============================] - 0s 704us/step - loss: 0.1102 - acc: 0.9155 - val_loss: 0.9453 - val_acc: 0.0000e+00\n",
      "Epoch 39/50\n",
      "142/142 [==============================] - 0s 845us/step - loss: 0.0956 - acc: 0.9155 - val_loss: 0.8173 - val_acc: 0.0000e+00\n",
      "Epoch 40/50\n",
      "142/142 [==============================] - 0s 761us/step - loss: 0.0872 - acc: 0.9366 - val_loss: 0.6630 - val_acc: 0.9167\n",
      "Epoch 41/50\n",
      "142/142 [==============================] - 0s 789us/step - loss: 0.0845 - acc: 0.9789 - val_loss: 0.6801 - val_acc: 0.8889\n",
      "Epoch 42/50\n",
      "142/142 [==============================] - 0s 817us/step - loss: 0.0629 - acc: 0.9859 - val_loss: 0.5142 - val_acc: 0.9167\n",
      "Epoch 43/50\n",
      "142/142 [==============================] - 0s 789us/step - loss: 0.0479 - acc: 0.9930 - val_loss: 0.4534 - val_acc: 0.9167\n",
      "Epoch 44/50\n",
      "142/142 [==============================] - 0s 704us/step - loss: 0.0376 - acc: 1.0000 - val_loss: 0.2817 - val_acc: 0.9722\n",
      "Epoch 45/50\n",
      "142/142 [==============================] - 0s 704us/step - loss: 0.0256 - acc: 1.0000 - val_loss: 0.2633 - val_acc: 0.9444\n",
      "Epoch 46/50\n",
      "142/142 [==============================] - 0s 592us/step - loss: 0.0209 - acc: 1.0000 - val_loss: 0.2209 - val_acc: 0.9444\n",
      "Epoch 47/50\n",
      "142/142 [==============================] - 0s 676us/step - loss: 0.0172 - acc: 1.0000 - val_loss: 0.1846 - val_acc: 0.9444\n",
      "Epoch 48/50\n",
      "142/142 [==============================] - 0s 676us/step - loss: 0.0147 - acc: 1.0000 - val_loss: 0.1557 - val_acc: 0.9722\n",
      "Epoch 49/50\n",
      "142/142 [==============================] - 0s 620us/step - loss: 0.0125 - acc: 1.0000 - val_loss: 0.1411 - val_acc: 0.9722\n",
      "Epoch 50/50\n",
      "142/142 [==============================] - 0s 563us/step - loss: 0.0110 - acc: 1.0000 - val_loss: 0.1316 - val_acc: 0.9722\n"
     ]
    },
    {
     "data": {
      "text/plain": [
       "<keras.callbacks.History at 0x6b2564cd48>"
      ]
     },
     "execution_count": 43,
     "metadata": {},
     "output_type": "execute_result"
    }
   ],
   "source": [
    "input_layer = Input(shape=(X.shape[1], ), name='input_layer')\n",
    "first_layer = Dense(units=8, activation='sigmoid', kernel_initializer=he_normal(seed=None), name='first_layer') (input_layer)\n",
    "second_layer = Dense(units=5, activation='sigmoid', kernel_initializer=he_normal(seed=None), name='second_layer') (first_layer)\n",
    "second_last = Dense(units=2, activation='sigmoid', kernel_initializer=he_normal(seed=None), name='second_last') (second_layer)\n",
    "output_layer = Dense(units=3, activation='sigmoid', kernel_initializer=he_normal(seed=None), name='output_layer') (second_last)\n",
    "\n",
    "model = Model(inputs=input_layer, outputs=output_layer)\n",
    "\n",
    "model.compile(optimizer=Adam(lr=.05), loss='categorical_crossentropy', metrics=['accuracy'])\n",
    "\n",
    "model.fit(X, y, batch_size=8, epochs=50, validation_split=.2)"
   ]
  },
  {
   "cell_type": "code",
   "execution_count": 44,
   "metadata": {},
   "outputs": [],
   "source": [
    "function = kb.function(inputs=[input_layer], outputs=[output_layer])\n",
    "last_layer_dim = function([X])[0]"
   ]
  },
  {
   "cell_type": "code",
   "execution_count": 45,
   "metadata": {},
   "outputs": [
    {
     "data": {
      "text/plain": [
       "<matplotlib.collections.PathCollection at 0x6b2543f388>"
      ]
     },
     "execution_count": 45,
     "metadata": {},
     "output_type": "execute_result"
    },
    {
     "data": {
      "image/png": "[encoded data removed]",
      "text/plain": [
       "<Figure size 432x288 with 1 Axes>"
      ]
     },
     "metadata": {
      "needs_background": "light"
     },
     "output_type": "display_data"
    }
   ],
   "source": [
    "plt.scatter(last_layer_dim[:,0], last_layer_dim[:,1], c=y)"
   ]
  }
 ],
 "metadata": {
  "kernelspec": {
   "display_name": "Python 3",
   "language": "python",
   "name": "python3"
  },
  "language_info": {
   "codemirror_mode": {
    "name": "ipython",
    "version": 3
   },
   "file_extension": ".py",
   "mimetype": "text/x-python",
   "name": "python",
   "nbconvert_exporter": "python",
   "pygments_lexer": "ipython3",
   "version": "3.7.7"
  }
 },
 "nbformat": 4,
 "nbformat_minor": 4
}
